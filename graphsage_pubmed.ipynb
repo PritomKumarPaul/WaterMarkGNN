{
 "cells": [
  {
   "cell_type": "markdown",
   "id": "68abdffa-9b41-4ed1-8969-ada8ca2ab2f0",
   "metadata": {},
   "source": [
    "**Imports from PyTorch:**\n",
    "Core libraries for defining and training neural networks (torch, torch.nn), optimization (torch.optim), and functional APIs (torch.nn.functional) are included.\n",
    "\n",
    "**PyTorch Geometric:**\n",
    "GCNConv is used for applying graph convolutional layers to graph-structured data.\n",
    "\n",
    "**Evaluation Metrics:**\n",
    "accuracy_score and classification_report from scikit-learn help assess classification performance.\n",
    "\n",
    "**Visualization Tools:**\n",
    "matplotlib.pyplot and networkx are used to visualize graphs and relationships within the data."
   ]
  },
  {
   "cell_type": "code",
   "execution_count": 1,
   "id": "3344fac0-6ab1-490a-bb0a-51db07bffcc5",
   "metadata": {},
   "outputs": [],
   "source": [
    "import torch\n",
    "import torch.nn as nn\n",
    "import torch.optim as optim\n",
    "import torch.nn.functional as F\n",
    "from torch_geometric.nn import GCNConv\n",
    "from sklearn.metrics import accuracy_score, classification_report\n",
    "import matplotlib.pyplot as plt\n",
    "import networkx as nx\n",
    "import numpy as np"
   ]
  },
  {
   "cell_type": "markdown",
   "id": "bbcee235-9661-4972-b4da-fb73c84159c6",
   "metadata": {},
   "source": [
    "### **Load Pubmed dataset**"
   ]
  },
  {
   "cell_type": "code",
   "execution_count": 2,
   "id": "a0071ed1-ca87-4fa6-b8c3-d6eee5429a8f",
   "metadata": {},
   "outputs": [],
   "source": [
    "from torch_geometric.datasets import Planetoid\n",
    "dataset = Planetoid(root=\"/tmp/Pubmed\", name=\"Pubmed\")\n",
    "data = dataset[0]\n"
   ]
  },
  {
   "cell_type": "markdown",
   "id": "2dab4575-bf17-4608-84ba-c555f53092ba",
   "metadata": {},
   "source": [
    "### **GraphSage model** \n",
    "This serves as the primary model for node classification in our task. It uses two graphsage layers to process node features and graph structure, applying ReLU activation and dropout for regularization. The output is a log-softmax, providing class probabilities for each node. This is the actual model we train and evaluate for graph-based learning."
   ]
  },
  {
   "cell_type": "code",
   "execution_count": 3,
   "id": "609f395d-686f-4b67-9c76-4a3e5f3c54a1",
   "metadata": {},
   "outputs": [],
   "source": [
    "from torch_geometric.nn import SAGEConv\n",
    "\n",
    "# Define the GraphSAGE model\n",
    "class GraphSAGE(nn.Module):\n",
    "    def __init__(self, in_channels, hidden_channels, out_channels):\n",
    "        super(GraphSAGE, self).__init__()\n",
    "        self.conv1 = SAGEConv(in_channels, hidden_channels)\n",
    "        self.conv2 = SAGEConv(hidden_channels, out_channels)\n",
    "\n",
    "    def forward(self, data):\n",
    "        x, edge_index = data.x, data.edge_index\n",
    "        x = F.relu(self.conv1(x, edge_index))\n",
    "        x = F.dropout(x, p=0.5, training=self.training)\n",
    "        x = self.conv2(x, edge_index)\n",
    "        return F.log_softmax(x, dim=1)\n"
   ]
  },
  {
   "cell_type": "markdown",
   "id": "87194dbd-c16d-4668-a1d7-9749088365f7",
   "metadata": {},
   "source": [
    "### The Generator model \n",
    "A GCN-based model used to create trigger graphs for poisoning. It generates trigger features and a synthetic adjacency matrix for embedding backdoors into the main graph.\n"
   ]
  },
  {
   "cell_type": "code",
   "execution_count": 4,
   "id": "b4879429-0293-4091-a476-53517b480fd8",
   "metadata": {},
   "outputs": [],
   "source": [
    "\n",
    "class Generator(nn.Module):\n",
    "    def __init__(self, in_channels, hidden_channels, feature_dim):\n",
    "        super(Generator, self).__init__()\n",
    "        self.conv1 = GCNConv(in_channels, hidden_channels)\n",
    "        self.conv2 = GCNConv(hidden_channels, feature_dim)\n",
    "\n",
    "    def forward(self, data, num_trigger_nodes):\n",
    "        x, edge_index = data.x, data.edge_index\n",
    "        trigger_features = F.relu(self.conv1(x, edge_index))\n",
    "        trigger_features = self.conv2(trigger_features, edge_index)\n",
    "        trigger_features = trigger_features[:num_trigger_nodes]\n",
    "\n",
    "        # Generate trigger graph adjacency matrix with random connections\n",
    "        adjacency_matrix = torch.randint(0, 2, (num_trigger_nodes, num_trigger_nodes)).float()\n",
    "        adjacency_matrix = torch.triu(adjacency_matrix, diagonal=1).clone()  # Upper triangular\n",
    "        adjacency_matrix = adjacency_matrix + adjacency_matrix.T.clone()  # Make symmetric\n",
    "\n",
    "        return trigger_features, adjacency_matrix"
   ]
  },
  {
   "cell_type": "markdown",
   "id": "aed7b782-08fe-401a-84a1-d9962d5cba64",
   "metadata": {},
   "source": [
    "### Visualization Functions\n",
    "These functions are used to display the structure of trigger graphs and backdoor graphs. visualize_trigger_graph shows the connections within a single trigger graph, visualize_all_trigger_graphs visualizes the trigger subgraphs for all poisoned nodes, and visualize_backdoor_graph combines the main graph with trigger subgraphs to depict the full backdoored graph."
   ]
  },
  {
   "cell_type": "code",
   "execution_count": 5,
   "id": "2ec5e506-f837-471e-990a-32825994927b",
   "metadata": {},
   "outputs": [],
   "source": [
    "# Visualize trigger graph\n",
    "def visualize_trigger_graph(adjacency_matrix):\n",
    "    graph = nx.from_numpy_array(adjacency_matrix.numpy())\n",
    "    pos = nx.spring_layout(graph)\n",
    "    nx.draw(graph, pos, with_labels=True, node_color=\"lightblue\", edge_color=\"gray\")\n",
    "    plt.title(\"Trigger Graph Visualization\")\n",
    "    plt.show()\n",
    "\n",
    "# Visualize all trigger graphs for poisoned nodes\n",
    "def visualize_all_trigger_graphs(generator, data, poisoned_nodes):\n",
    "    for i, node in enumerate(poisoned_nodes):\n",
    "        with torch.no_grad():\n",
    "            trigger_features, adjacency_matrix = generator(data, len(poisoned_nodes))\n",
    "        print(f\"Trigger Graph for Poisoned Node {i}:\")\n",
    "        visualize_trigger_graph(adjacency_matrix)\n",
    "\n",
    "# Visualize the entire backdoor graph\n",
    "def visualize_backdoor_graph(data, poisoned_nodes, adjacency_matrix):\n",
    "    g = nx.Graph()\n",
    "    g.add_edges_from(data.edge_index.t().tolist())\n",
    "    trigger_graph = nx.from_numpy_array(adjacency_matrix.numpy())\n",
    "\n",
    "    for idx, node in enumerate(poisoned_nodes):\n",
    "        mapping = {i: data.num_nodes + idx * adjacency_matrix.size(0) + i for i in range(adjacency_matrix.size(0))}\n",
    "        relabeled_trigger = nx.relabel_nodes(trigger_graph, mapping)\n",
    "        g = nx.compose(g, relabeled_trigger)\n",
    "        g.add_edges_from([(node.item(), mapping[i]) for i in range(adjacency_matrix.size(0))])\n",
    "\n",
    "    pos = nx.spring_layout(g)\n",
    "    nx.draw(g, pos, with_labels=False, node_size=10, edge_color=\"gray\")\n",
    "    plt.title(\"Backdoor Graph Visualization\")\n",
    "    plt.show()"
   ]
  },
  {
   "cell_type": "markdown",
   "id": "26adf042-cf83-4ba7-a7cf-b17b93aee3a0",
   "metadata": {},
   "source": [
    "### **Training and Evaluation of GNN Model**\n",
    "This segment defines functions to train and evaluate a GNN model. train_model trains the model using a cross-entropy loss on the training mask, while evaluate_model assesses performance on a specified mask (e.g., test mask). The clean model is trained and evaluated here, providing a baseline for performance before introducing any backdoor mechanisms."
   ]
  },
  {
   "cell_type": "code",
   "execution_count": 6,
   "id": "21e1cf13-c83a-493f-9519-e3746a561463",
   "metadata": {},
   "outputs": [
    {
     "name": "stdout",
     "output_type": "stream",
     "text": [
      "\n",
      "--- Clean Model Performance ---\n",
      "              precision    recall  f1-score   support\n",
      "\n",
      "           0       0.72      0.76      0.74       180\n",
      "           1       0.76      0.77      0.76       413\n",
      "           2       0.77      0.74      0.76       407\n",
      "\n",
      "    accuracy                           0.76      1000\n",
      "   macro avg       0.75      0.76      0.75      1000\n",
      "weighted avg       0.76      0.76      0.76      1000\n",
      "\n"
     ]
    }
   ],
   "source": [
    "# Train GNN model\n",
    "def train_model(model, data, epochs, lr):\n",
    "    optimizer = optim.Adam(model.parameters(), lr=lr)\n",
    "    loss_fn = nn.CrossEntropyLoss()\n",
    "    loss_history = []\n",
    "    for epoch in range(epochs):\n",
    "        model.train()\n",
    "        optimizer.zero_grad()\n",
    "        out = model(data)\n",
    "        loss = loss_fn(out[data.train_mask], data.y[data.train_mask])\n",
    "        loss.backward()\n",
    "        optimizer.step()\n",
    "        loss_history.append(loss.item())\n",
    "    return loss_history\n",
    "\n",
    "# Evaluate GNN model\n",
    "def evaluate_model(model, data, mask):\n",
    "    model.eval()\n",
    "    with torch.no_grad():\n",
    "        logits = model(data)\n",
    "        predictions = logits[mask].argmax(dim=1).cpu()\n",
    "        labels = data.y[mask].cpu()\n",
    "        return labels, predictions\n",
    "\n",
    "# Train clean model\n",
    "clean_model = GraphSAGE(dataset.num_node_features, 16, dataset.num_classes)\n",
    "clean_loss_history = train_model(clean_model, data, epochs=200, lr=0.01)\n",
    "y_true_clean, y_pred_clean = evaluate_model(clean_model, data, data.test_mask)\n",
    "print(\"\\n--- Clean Model Performance ---\")\n",
    "print(classification_report(y_true_clean, y_pred_clean))"
   ]
  },
  {
   "cell_type": "markdown",
   "id": "5d50f85d-58bf-4690-850c-03697a171c69",
   "metadata": {},
   "source": [
    "### **Trigger Graph Generator and Node Selection for Poisoning**\n",
    "This segment initializes the trigger graph generator and selects one high-confidence node per class to be poisoned. The generator is based on the previously defined Generator class. The select_poisoned_nodes_per_class function identifies nodes with the highest classification confidence in each class, ensuring that poisoning targets those most likely to influence the model effectively. These poisoned nodes will be central to the backdoor insertion process."
   ]
  },
  {
   "cell_type": "code",
   "execution_count": 7,
   "id": "5e38b1e3-fc88-4f2c-8eba-ea2722d0ba21",
   "metadata": {},
   "outputs": [],
   "source": [
    "\n",
    "# Generator for trigger graph\n",
    "generator = Generator(in_channels=dataset.num_node_features, hidden_channels=16, feature_dim=dataset.num_node_features)\n",
    "\n",
    "# Select one high-confidence node per class for poisoning\n",
    "def select_poisoned_nodes_per_class(model, data):\n",
    "    model.eval()\n",
    "    with torch.no_grad():\n",
    "        out = model(data)\n",
    "        preds = out.argmax(dim=1)\n",
    "        poisoned_nodes = []\n",
    "        for label in range(dataset.num_classes):\n",
    "            nodes = (data.y == label).nonzero(as_tuple=True)[0]\n",
    "            class_confidences = torch.max(F.softmax(out[nodes], dim=1), dim=1)[0]\n",
    "            max_confidence_idx = nodes[torch.argmax(class_confidences)]\n",
    "            poisoned_nodes.append(max_confidence_idx)\n",
    "    return torch.tensor(poisoned_nodes)\n",
    "\n",
    "poisoned_nodes = select_poisoned_nodes_per_class(clean_model, data)"
   ]
  },
  {
   "cell_type": "markdown",
   "id": "14be4648-c8c0-446e-97fb-117b7759b241",
   "metadata": {},
   "source": [
    "### **Bi-level Optimization with Generator and Model Losses**\n",
    "\n",
    "This segment implements the bi-level optimization process to train both the trigger graph generator and the model. It defines three key loss functions for the generator:\n",
    "\n",
    "**Imperception Loss:** Ensures that trigger features are similar to the original connected node features, making the backdoor imperceptible.\n",
    "\n",
    "**Regularization Loss:** Penalizes deviations in trigger features using a binary cross-entropy-based approach.\n",
    "\n",
    "**Trigger Loss:** Guides the generator to produce triggers that misclassify poisoned nodes into their target labels.\n",
    "The bilevel_optimization function alternates between:\n",
    "\n",
    "**Outer optimization:** Updates the generator using a combination of the above losses.\n",
    "\n",
    "**Inner optimization:** Trains the model on the clean data, maintaining its overall utility.\n",
    "\n",
    "The process ensures a balance between model accuracy and effective backdoor insertion, visualizing the trigger graphs and the entire backdoor graph during the final epoch."
   ]
  },
  {
   "cell_type": "code",
   "execution_count": 8,
   "id": "75d811a9-1943-44ec-8204-e7fa3f9bedec",
   "metadata": {},
   "outputs": [],
   "source": [
    "# losses for generator\n",
    "def imperception_loss(trigger_features, connected_features):\n",
    "    cosine_similarity = F.cosine_similarity(trigger_features, connected_features, dim=1)\n",
    "    return -torch.mean(cosine_similarity)\n",
    "\n",
    "def regularization_loss(trigger_features, identity_info):\n",
    "    return F.binary_cross_entropy_with_logits(trigger_features, identity_info)\n",
    "\n",
    "def trigger_loss(model, data, poisoned_nodes, target_labels):\n",
    "    out = model(data)\n",
    "    out_poisoned = out[poisoned_nodes]\n",
    "    return F.cross_entropy(out_poisoned, target_labels)\n",
    "\n",
    "# Bi-level optimization\n",
    "optimizer_inner = optim.Adam(clean_model.parameters(), lr=0.01)\n",
    "optimizer_outer = optim.Adam(generator.parameters(), lr=0.01)\n",
    "\n",
    "def bilevel_optimization(generator, model, data, poisoned_nodes, epochs):\n",
    "    num_poisoned_nodes = len(poisoned_nodes)\n",
    "    target_labels = data.y[poisoned_nodes]\n",
    "    classification_loss_history = []\n",
    "\n",
    "    for epoch in range(epochs):\n",
    "        # Outer optimization: Generator\n",
    "        generator.train()\n",
    "        model.eval()\n",
    "        trigger_features, adjacency_matrix = generator(data, num_poisoned_nodes)\n",
    "        connected_features = data.x[poisoned_nodes]\n",
    "        \n",
    "        # Compute generator losses\n",
    "        l_imperception = imperception_loss(trigger_features, connected_features)\n",
    "        l_regularization = regularization_loss(trigger_features, torch.ones_like(trigger_features))\n",
    "        l_trigger = trigger_loss(model, data, poisoned_nodes, target_labels)\n",
    "\n",
    "        loss_g = 0.5 * l_imperception + 0.3 * l_regularization + 0.2 * l_trigger\n",
    "        optimizer_outer.zero_grad()\n",
    "        loss_g.backward()\n",
    "        optimizer_outer.step()\n",
    "\n",
    "        # Inner optimization: Model\n",
    "        model.train()\n",
    "        optimizer_inner.zero_grad()\n",
    "        out = model(data)\n",
    "        loss_embed = F.cross_entropy(out[data.train_mask], data.y[data.train_mask])\n",
    "        loss_embed.backward()\n",
    "        optimizer_inner.step()\n",
    "\n",
    "        classification_loss_history.append(loss_embed.item())\n",
    "\n",
    "        if epoch % 20 == 0:\n",
    "            print(f\"Epoch {epoch+1}: Generator Loss: {loss_g.item():.4f}, Embed Loss: {loss_embed.item():.4f}\")\n",
    "\n",
    "        if epoch == epochs - 1:\n",
    "            visualize_all_trigger_graphs(generator, data, poisoned_nodes)\n",
    "            #visualize_backdoor_graph(data, poisoned_nodes, adjacency_matrix)\n",
    "\n",
    "    return classification_loss_history\n"
   ]
  },
  {
   "cell_type": "markdown",
   "id": "7462f846-6bf3-4a56-9005-107157d4efa1",
   "metadata": {},
   "source": [
    "### **Applying Bi-Level Optimization**\n",
    "This segment trains a watermarked model using the bi-level optimization process, which fine-tunes the model to maintain classification accuracy while incorporating the trigger patterns generated by the generator. The watermarked model is initialized with the weights of the clean model, ensuring it starts with the same baseline performance. The bilevel_optimization function then optimizes the generator and watermarked model over 200 epochs, crafting trigger graphs and refining the model simultaneously. This process integrates the watermark into the model without compromising its predictive capabilities."
   ]
  },
  {
   "cell_type": "code",
   "execution_count": 9,
   "id": "c4e5b1c7-a27a-4a74-9277-fb66180f6cba",
   "metadata": {},
   "outputs": [
    {
     "name": "stdout",
     "output_type": "stream",
     "text": [
      "Epoch 1: Generator Loss: 0.2036, Embed Loss: 0.0047\n",
      "Epoch 21: Generator Loss: -0.1684, Embed Loss: 0.0167\n",
      "Epoch 41: Generator Loss: -0.2768, Embed Loss: 0.0027\n",
      "Epoch 61: Generator Loss: -0.2919, Embed Loss: 0.0146\n",
      "Epoch 81: Generator Loss: -0.2930, Embed Loss: 0.0050\n",
      "Epoch 101: Generator Loss: -0.2932, Embed Loss: 0.0058\n",
      "Epoch 121: Generator Loss: -0.2933, Embed Loss: 0.0041\n",
      "Epoch 141: Generator Loss: -0.2933, Embed Loss: 0.0045\n",
      "Epoch 161: Generator Loss: -0.2934, Embed Loss: 0.0035\n",
      "Epoch 181: Generator Loss: -0.2934, Embed Loss: 0.0076\n",
      "Trigger Graph for Poisoned Node 0:\n"
     ]
    },
    {
     "data": {
      "image/png": "[encoded data removed]",
      "text/plain": [
       "<Figure size 640x480 with 1 Axes>"
      ]
     },
     "metadata": {},
     "output_type": "display_data"
    },
    {
     "name": "stdout",
     "output_type": "stream",
     "text": [
      "Trigger Graph for Poisoned Node 1:\n"
     ]
    },
    {
     "data": {
      "image/png": "[encoded data removed]",
      "text/plain": [
       "<Figure size 640x480 with 1 Axes>"
      ]
     },
     "metadata": {},
     "output_type": "display_data"
    },
    {
     "name": "stdout",
     "output_type": "stream",
     "text": [
      "Trigger Graph for Poisoned Node 2:\n"
     ]
    },
    {
     "data": {
      "image/png": "[encoded data removed]",
      "text/plain": [
       "<Figure size 640x480 with 1 Axes>"
      ]
     },
     "metadata": {},
     "output_type": "display_data"
    }
   ],
   "source": [
    "\n",
    "watermarked_model = GraphSAGE(dataset.num_node_features, 16, dataset.num_classes)\n",
    "watermarked_model.load_state_dict(clean_model.state_dict())\n",
    "watermarked_loss_history = bilevel_optimization(generator, watermarked_model, data, poisoned_nodes, epochs=200)\n",
    "\n"
   ]
  },
  {
   "cell_type": "markdown",
   "id": "5c723ef3-4bce-4662-bda4-678dd1d77adb",
   "metadata": {},
   "source": [
    "### Performance Metrics after embedding"
   ]
  },
  {
   "cell_type": "code",
   "execution_count": 10,
   "id": "3e54ae0a-0f15-451b-bb5a-1c0202daa3ab",
   "metadata": {},
   "outputs": [
    {
     "name": "stdout",
     "output_type": "stream",
     "text": [
      "\n",
      "--- Embedded Model Performance ---\n",
      "              precision    recall  f1-score   support\n",
      "\n",
      "           0       0.72      0.76      0.74       180\n",
      "           1       0.76      0.77      0.76       413\n",
      "           2       0.77      0.74      0.76       407\n",
      "\n",
      "    accuracy                           0.76      1000\n",
      "   macro avg       0.75      0.76      0.75      1000\n",
      "weighted avg       0.76      0.76      0.76      1000\n",
      "\n"
     ]
    }
   ],
   "source": [
    "y_true_embed, y_pred_embed = evaluate_model(watermarked_model, data, data.test_mask)\n",
    "print(\"\\n--- Embedded Model Performance ---\")\n",
    "print(classification_report(y_true_embed, y_pred_embed))"
   ]
  },
  {
   "cell_type": "markdown",
   "id": "b13ff01e-f15f-4fa7-a8c5-337a85e2f555",
   "metadata": {},
   "source": [
    "### Comparison of Performance Metrics"
   ]
  },
  {
   "cell_type": "code",
   "execution_count": 11,
   "id": "e497a4bf-e9af-4a6a-a979-2630084f7e96",
   "metadata": {},
   "outputs": [
    {
     "data": {
      "image/png": "[encoded data removed]",
      "text/plain": [
       "<Figure size 800x600 with 1 Axes>"
      ]
     },
     "metadata": {},
     "output_type": "display_data"
    }
   ],
   "source": [
    "# Classification reports and accuracy\n",
    "report_clean = classification_report(y_true_clean, y_pred_clean, output_dict=True)\n",
    "report_embed = classification_report(y_true_embed, y_pred_embed, output_dict=True)\n",
    "\n",
    "accuracy_clean = accuracy_score(y_true_clean, y_pred_clean)\n",
    "accuracy_embed = accuracy_score(y_true_embed, y_pred_embed)\n",
    "\n",
    "# Extract metrics\n",
    "metrics = [\"precision\", \"recall\", \"f1-score\", \"accuracy\"]\n",
    "clean_scores = [report_clean[\"macro avg\"][\"precision\"], report_clean[\"macro avg\"][\"recall\"], \n",
    "                report_clean[\"macro avg\"][\"f1-score\"], accuracy_clean]\n",
    "embed_scores = [report_embed[\"macro avg\"][\"precision\"], report_embed[\"macro avg\"][\"recall\"], \n",
    "                report_embed[\"macro avg\"][\"f1-score\"], accuracy_embed]\n",
    "\n",
    "# Bar chart representation\n",
    "x = np.arange(len(metrics))\n",
    "width = 0.35\n",
    "\n",
    "fig, ax = plt.subplots(figsize=(8, 6))\n",
    "ax.bar(x - width/2, clean_scores, width, label=\"Before Embedding\", color=\"skyblue\")\n",
    "ax.bar(x + width/2, embed_scores, width, label=\"After Embedding\", color=\"orange\")\n",
    "\n",
    "# Formatting the plot\n",
    "ax.set_xlabel(\"Metrics\", fontsize=12)\n",
    "ax.set_ylabel(\"Scores\", fontsize=12)\n",
    "ax.set_title(\"Performance Metrics: Before vs After Embedding\", fontsize=14)\n",
    "ax.set_xticks(x)\n",
    "ax.set_xticklabels(metrics)\n",
    "ax.legend()\n",
    "\n",
    "plt.tight_layout()\n",
    "plt.show()"
   ]
  },
  {
   "cell_type": "markdown",
   "id": "35785bdc-ac07-4e43-a936-143e67aec70b",
   "metadata": {},
   "source": [
    "### **Verifying Watermark Accuracy**\n",
    "This segment evaluates the watermarked model's performance on the poisoned nodes. The function verify_watermark_accuracy checks whether the model predicts the correct target labels for these nodes, calculating and printing the watermark accuracy as a ratio of correct predictions to total poisoned nodes. This step confirms the success of embedding the watermark without degrading overall model performance."
   ]
  },
  {
   "cell_type": "code",
   "execution_count": 12,
   "id": "b5564517-05da-48e1-9e7f-8b5208de1644",
   "metadata": {},
   "outputs": [
    {
     "name": "stdout",
     "output_type": "stream",
     "text": [
      "Watermark Verification Accuracy: 1.0000\n"
     ]
    },
    {
     "data": {
      "text/plain": [
       "1.0"
      ]
     },
     "execution_count": 12,
     "metadata": {},
     "output_type": "execute_result"
    }
   ],
   "source": [
    "# Verify watermark accuracy\n",
    "def verify_watermark_accuracy(model, data, poisoned_nodes):\n",
    "    model.eval()\n",
    "    with torch.no_grad():\n",
    "        out = model(data)\n",
    "        poisoned_preds = out[poisoned_nodes].argmax(dim=1).cpu()\n",
    "        accuracy = (poisoned_preds == data.y[poisoned_nodes]).sum().item() / len(poisoned_nodes)\n",
    "        print(f\"Watermark Verification Accuracy: {accuracy:.4f}\")\n",
    "        return accuracy\n",
    "\n",
    "verify_watermark_accuracy(watermarked_model, data, poisoned_nodes)"
   ]
  },
  {
   "cell_type": "code",
   "execution_count": null,
   "id": "eff9ad76-73d5-40b8-b88f-ac61344286db",
   "metadata": {},
   "outputs": [],
   "source": []
  }
 ],
 "metadata": {
  "kernelspec": {
   "display_name": "Python 3 (ipykernel)",
   "language": "python",
   "name": "python3"
  },
  "language_info": {
   "codemirror_mode": {
    "name": "ipython",
    "version": 3
   },
   "file_extension": ".py",
   "mimetype": "text/x-python",
   "name": "python",
   "nbconvert_exporter": "python",
   "pygments_lexer": "ipython3",
   "version": "3.11.11"
  }
 },
 "nbformat": 4,
 "nbformat_minor": 5
}
